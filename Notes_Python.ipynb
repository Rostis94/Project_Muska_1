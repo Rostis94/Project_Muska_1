{
  "nbformat": 4,
  "nbformat_minor": 0,
  "metadata": {
    "colab": {
      "name": "Заметки Python.ipynb",
      "provenance": [],
      "collapsed_sections": []
    },
    "kernelspec": {
      "name": "python3",
      "display_name": "Python 3"
    },
    "language_info": {
      "name": "python"
    }
  },
  "cells": [
    {
      "cell_type": "code",
      "metadata": {
        "colab": {
          "base_uri": "https://localhost:8080/"
        },
        "id": "4F55i9NWf8BD",
        "outputId": "a2ea89dd-0717-47cd-b1aa-993c969c16d4"
      },
      "source": [
        "print(123)"
      ],
      "execution_count": null,
      "outputs": [
        {
          "output_type": "stream",
          "name": "stdout",
          "text": [
            "123\n"
          ]
        }
      ]
    },
    {
      "cell_type": "markdown",
      "metadata": {
        "id": "RHejLuCXf8ad"
      },
      "source": [
        ""
      ]
    },
    {
      "cell_type": "markdown",
      "metadata": {
        "id": "GTImbgDvw7kg"
      },
      "source": [
        "# **Быстрые команды**\n",
        "- Палитра команд: Ctrl+Shift+P\n",
        "- Закомментить участок: Ctrl + /\n",
        "- Автоформатирование кода: Alt + Shift + F\n",
        "- Сдвинуть строку: Alt + вверх/вниз\n",
        "- Символы Alt + NumPad (26 →, 25 ↓)\n",
        "- Запустить код: F5\n",
        "- Выделить такой же участок/символ Ctrl + D\n",
        "\n",
        "\n",
        "\n",
        "# **Работа с Git**\n",
        "- Инициализировать репозиторий (git init) \n",
        "в ком строке например D:\\Python\\Project_Muska> `git init` - один раз при создании\n",
        "- Добавить файлы в commit\n",
        "через ком строку: `git add .` (добавить все файлы)\n",
        "через Fork: Local Changes → Stage\n",
        "- Закоммитить\n",
        "- Можно создать разные ветки и Merge их\n",
        "\n"
      ]
    }
  ]
}